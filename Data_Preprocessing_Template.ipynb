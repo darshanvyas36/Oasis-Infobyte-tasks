{
  "nbformat": 4,
  "nbformat_minor": 0,
  "metadata": {
    "colab": {
      "provenance": [],
      "include_colab_link": true
    },
    "kernelspec": {
      "name": "python3",
      "display_name": "Python 3"
    }
  },
  "cells": [
    {
      "cell_type": "markdown",
      "metadata": {
        "id": "view-in-github",
        "colab_type": "text"
      },
      "source": [
        "<a href=\"https://colab.research.google.com/github/darshanvyas36/Oasis-Infobyte-tasks/blob/main/Data_Preprocessing_Template.ipynb\" target=\"_parent\"><img src=\"https://colab.research.google.com/assets/colab-badge.svg\" alt=\"Open In Colab\"/></a>"
      ]
    },
    {
      "cell_type": "markdown",
      "metadata": {
        "id": "iIDXUkMElkDd"
      },
      "source": [
        "# Data Preprocessing"
      ]
    },
    {
      "cell_type": "markdown",
      "metadata": {
        "id": "Hj40LjUilpix"
      },
      "source": [
        "## Importing the libraries"
      ]
    },
    {
      "cell_type": "code",
      "source": [
        "import pandas as pd\n",
        "import numpy as np\n",
        "import matplotlib.pyplot"
      ],
      "metadata": {
        "id": "gLVxwUKcOU2o"
      },
      "execution_count": 2,
      "outputs": []
    },
    {
      "cell_type": "markdown",
      "metadata": {
        "id": "zApSnwUkl9eD"
      },
      "source": [
        "## Importing Dataset"
      ]
    },
    {
      "cell_type": "code",
      "source": [
        "data_set = pd.read_csv(\"covid_data_set.csv\")\n",
        "X = data_set.iloc[:, :-1].values\n",
        "Y = data_set.iloc[:, -1].values"
      ],
      "metadata": {
        "id": "KYBlYzz2PfSA"
      },
      "execution_count": 5,
      "outputs": []
    },
    {
      "cell_type": "code",
      "source": [
        "print(X)"
      ],
      "metadata": {
        "colab": {
          "base_uri": "https://localhost:8080/"
        },
        "id": "x1SFGSYUSki5",
        "outputId": "573424ed-47c0-4ea9-cf44-122659085077"
      },
      "execution_count": 6,
      "outputs": [
        {
          "output_type": "stream",
          "name": "stdout",
          "text": [
            "[[10.0 'Normal' 'no' 'no' 97.0]\n",
            " [12.0 'Normal' 'no' 'no' 97.0]\n",
            " [15.0 'Normal' 'no' 'no' 94.0]\n",
            " [10.0 'Normal' 'no' 'no' 97.0]\n",
            " [13.0 'Moderate' 'no' 'no' 94.0]\n",
            " [12.0 'Moderate' 'no' 'no' 97.0]\n",
            " [13.0 'Moderate' 'no' 'no' 93.0]\n",
            " [15.0 'Moderate' 'no' 'no' 92.0]\n",
            " [18.0 'Moderate' 'no' 'no' 66.0]\n",
            " [19.0 'Normal' 'no' 'no' 92.0]\n",
            " [20.0 'Normal' 'no' 'no' 93.0]\n",
            " [17.0 'Normal' 'no' 'no' 93.0]\n",
            " [16.0 'Normal' 'no' 'no' 92.0]\n",
            " [18.0 'Normal' 'no' 'no' 93.0]\n",
            " [20.0 'Normal' 'no' 'no' 92.0]\n",
            " [25.0 'Moderate' 'no' 'no' 93.0]\n",
            " [24.0 'Moderate' 'no' 'no' 92.0]\n",
            " [26.0 'High' 'no' 'no' 94.0]\n",
            " [28.0 'Normal' 'no' 'no' 99.0]\n",
            " [29.0 'Normal' 'no' 'no' 93.0]\n",
            " [30.0 'Moderate' 'no' 'no' 62.0]\n",
            " [19.0 'Normal' 'no' 'no' 89.0]\n",
            " [25.0 'Normal' 'no' 'yes' 86.0]\n",
            " [26.0 'Normal' 'no' 'no' nan]\n",
            " [28.0 'Normal' 'no' 'no' 89.0]\n",
            " [30.0 'Moderate' 'yes' 'no' 86.0]\n",
            " [35.0 'Moderate' 'no' 'no' 89.0]\n",
            " [32.0 'Moderate' 'no' 'yes' 84.0]\n",
            " [nan 'Moderate' 'yes' 'no' 90.0]\n",
            " [32.0 'Moderate' 'no' 'no' 89.0]\n",
            " [35.0 'Moderate' 'no' 'yes' 92.0]\n",
            " [38.0 'High' 'no' 'no' 75.0]\n",
            " [40.0 'Moderate' 'no' 'yes' 90.0]\n",
            " [46.0 'High' 'yes' 'no' 91.0]\n",
            " [48.0 'Moderate' 'no' 'yes' 93.0]\n",
            " [42.0 'High' 'no' 'no' 92.0]\n",
            " [40.0 'High' 'no' 'no' 92.0]\n",
            " [49.0 'Moderate' 'no' 'no' 80.0]\n",
            " [50.0 'High' 'yes' 'yes' 77.0]\n",
            " [36.0 'High' 'yes' 'no' 90.0]\n",
            " [52.0 'High' 'yes' 'yes' 80.0]\n",
            " [56.0 'High' 'yes' 'yes' 77.0]\n",
            " [58.0 'High' 'no' 'no' 70.0]\n",
            " [59.0 'High' 'no' 'yes' 69.0]\n",
            " [60.0 'High' 'yes' 'yes' 68.0]\n",
            " [53.0 'High' 'yes' 'no' 55.0]\n",
            " [54.0 'High' 'yes' 'yes' 70.0]\n",
            " [62.0 'High' 'yes' 'yes' 68.0]\n",
            " [63.0 'High' 'yes' 'yes' 66.0]\n",
            " [68.0 'High' 'yes' 'no' 67.0]\n",
            " [69.0 'High' 'no' 'yes' 53.0]\n",
            " [64.0 'High' 'yes' 'yes' 73.0]\n",
            " [61.0 'High' 'yes' 'yes' 76.0]\n",
            " [70.0 'Normal' 'no' 'yes' 88.0]\n",
            " [59.0 'High' 'yes' 'no' 68.0]\n",
            " [62.0 'High' 'yes' 'yes' 69.0]\n",
            " [78.0 'High' 'yes' 'yes' 71.0]\n",
            " [74.0 'High' 'yes' 'yes' 75.0]\n",
            " [75.0 'High' 'no' 'yes' 72.0]\n",
            " [56.0 'High' 'yes' 'no' 76.0]\n",
            " [80.0 'High' 'no' 'yes' 92.0]\n",
            " [82.0 'High' 'yes' 'yes' 73.0]\n",
            " [86.0 'High' 'yes' 'yes' 71.0]\n",
            " [90.0 'High' 'yes' 'yes' 67.0]\n",
            " [84.0 'High' 'yes' 'yes' 75.0]\n",
            " [86.0 'High' 'no' 'yes' 76.0]\n",
            " [61.0 'Moderate' 'no' 'yes' 90.0]\n",
            " [94.0 'High' 'yes' 'yes' 64.0]\n",
            " [81.0 'High' 'yes' 'yes' 75.0]\n",
            " [76.0 'High' 'yes' 'yes' 80.0]]\n"
          ]
        }
      ]
    },
    {
      "cell_type": "code",
      "source": [
        "print(Y)"
      ],
      "metadata": {
        "colab": {
          "base_uri": "https://localhost:8080/"
        },
        "id": "6WSfyXBiSmqS",
        "outputId": "acce6889-eb3d-4a91-c230-6e212eb4db84"
      },
      "execution_count": 7,
      "outputs": [
        {
          "output_type": "stream",
          "name": "stdout",
          "text": [
            "['No' 'No' 'No' 'No' 'No' 'No' 'No' 'No' 'Yes' 'No' 'No' 'No' 'No' 'No'\n",
            " 'No' 'No' 'No' 'No' 'No' 'No' 'Yes' 'No' 'No' 'No' 'No' 'No' 'No' 'No'\n",
            " 'No' 'No' 'No' 'Yes' 'No' 'No' 'No' 'No' 'No' 'Yes' 'Yes' 'No' 'Yes'\n",
            " 'Yes' 'Yes' 'Yes' 'Yes' 'Yes' 'Yes' 'Yes' 'Yes' 'Yes' 'Yes' 'Yes' 'Yes'\n",
            " 'No' 'Yes' 'Yes' 'Yes' 'Yes' 'Yes' 'Yes' 'No' 'Yes' 'Yes' 'Yes' 'Yes'\n",
            " 'Yes' 'No' 'Yes' 'Yes' 'Yes']\n"
          ]
        }
      ]
    },
    {
      "cell_type": "markdown",
      "metadata": {
        "id": "XaG0s7WjmgPU"
      },
      "source": [
        "\n",
        "\n",
        "\n",
        "## Handling Missing Data"
      ]
    },
    {
      "cell_type": "code",
      "source": [
        "from sklearn.impute import SimpleImputer\n",
        "imputer = SimpleImputer(missing_values = np.nan, strategy='mean')\n",
        "\n",
        "# imputer.fit(X[:, 0:1])\n",
        "# X[:, 0:1] = imputer.transform(X[:, 0:1])\n",
        "# X"
      ],
      "metadata": {
        "id": "zGzywmKzX8_A"
      },
      "execution_count": 8,
      "outputs": []
    },
    {
      "cell_type": "code",
      "source": [
        "# imputer.fit(X[:, 4:5])\n",
        "# X[:, 4:5] = imputer.transform(X[:, 4:5])\n",
        "# X"
      ],
      "metadata": {
        "id": "5lG16t8RY4zm"
      },
      "execution_count": 9,
      "outputs": []
    },
    {
      "cell_type": "code",
      "source": [
        "imputer.fit(X[:, 0:5:4])\n",
        "X[:,0:5:4] = imputer.transform(X[:,0:5:4])\n",
        "X"
      ],
      "metadata": {
        "colab": {
          "base_uri": "https://localhost:8080/"
        },
        "id": "7_V5KweXZrbd",
        "outputId": "dd001039-db51-4ab7-a0bd-2b318b61b146"
      },
      "execution_count": 10,
      "outputs": [
        {
          "output_type": "execute_result",
          "data": {
            "text/plain": [
              "array([[10.0, 'Normal', 'no', 'no', 97.0],\n",
              "       [12.0, 'Normal', 'no', 'no', 97.0],\n",
              "       [15.0, 'Normal', 'no', 'no', 94.0],\n",
              "       [10.0, 'Normal', 'no', 'no', 97.0],\n",
              "       [13.0, 'Moderate', 'no', 'no', 94.0],\n",
              "       [12.0, 'Moderate', 'no', 'no', 97.0],\n",
              "       [13.0, 'Moderate', 'no', 'no', 93.0],\n",
              "       [15.0, 'Moderate', 'no', 'no', 92.0],\n",
              "       [18.0, 'Moderate', 'no', 'no', 66.0],\n",
              "       [19.0, 'Normal', 'no', 'no', 92.0],\n",
              "       [20.0, 'Normal', 'no', 'no', 93.0],\n",
              "       [17.0, 'Normal', 'no', 'no', 93.0],\n",
              "       [16.0, 'Normal', 'no', 'no', 92.0],\n",
              "       [18.0, 'Normal', 'no', 'no', 93.0],\n",
              "       [20.0, 'Normal', 'no', 'no', 92.0],\n",
              "       [25.0, 'Moderate', 'no', 'no', 93.0],\n",
              "       [24.0, 'Moderate', 'no', 'no', 92.0],\n",
              "       [26.0, 'High', 'no', 'no', 94.0],\n",
              "       [28.0, 'Normal', 'no', 'no', 99.0],\n",
              "       [29.0, 'Normal', 'no', 'no', 93.0],\n",
              "       [30.0, 'Moderate', 'no', 'no', 62.0],\n",
              "       [19.0, 'Normal', 'no', 'no', 89.0],\n",
              "       [25.0, 'Normal', 'no', 'yes', 86.0],\n",
              "       [26.0, 'Normal', 'no', 'no', 82.07246376811594],\n",
              "       [28.0, 'Normal', 'no', 'no', 89.0],\n",
              "       [30.0, 'Moderate', 'yes', 'no', 86.0],\n",
              "       [35.0, 'Moderate', 'no', 'no', 89.0],\n",
              "       [32.0, 'Moderate', 'no', 'yes', 84.0],\n",
              "       [45.130434782608695, 'Moderate', 'yes', 'no', 90.0],\n",
              "       [32.0, 'Moderate', 'no', 'no', 89.0],\n",
              "       [35.0, 'Moderate', 'no', 'yes', 92.0],\n",
              "       [38.0, 'High', 'no', 'no', 75.0],\n",
              "       [40.0, 'Moderate', 'no', 'yes', 90.0],\n",
              "       [46.0, 'High', 'yes', 'no', 91.0],\n",
              "       [48.0, 'Moderate', 'no', 'yes', 93.0],\n",
              "       [42.0, 'High', 'no', 'no', 92.0],\n",
              "       [40.0, 'High', 'no', 'no', 92.0],\n",
              "       [49.0, 'Moderate', 'no', 'no', 80.0],\n",
              "       [50.0, 'High', 'yes', 'yes', 77.0],\n",
              "       [36.0, 'High', 'yes', 'no', 90.0],\n",
              "       [52.0, 'High', 'yes', 'yes', 80.0],\n",
              "       [56.0, 'High', 'yes', 'yes', 77.0],\n",
              "       [58.0, 'High', 'no', 'no', 70.0],\n",
              "       [59.0, 'High', 'no', 'yes', 69.0],\n",
              "       [60.0, 'High', 'yes', 'yes', 68.0],\n",
              "       [53.0, 'High', 'yes', 'no', 55.0],\n",
              "       [54.0, 'High', 'yes', 'yes', 70.0],\n",
              "       [62.0, 'High', 'yes', 'yes', 68.0],\n",
              "       [63.0, 'High', 'yes', 'yes', 66.0],\n",
              "       [68.0, 'High', 'yes', 'no', 67.0],\n",
              "       [69.0, 'High', 'no', 'yes', 53.0],\n",
              "       [64.0, 'High', 'yes', 'yes', 73.0],\n",
              "       [61.0, 'High', 'yes', 'yes', 76.0],\n",
              "       [70.0, 'Normal', 'no', 'yes', 88.0],\n",
              "       [59.0, 'High', 'yes', 'no', 68.0],\n",
              "       [62.0, 'High', 'yes', 'yes', 69.0],\n",
              "       [78.0, 'High', 'yes', 'yes', 71.0],\n",
              "       [74.0, 'High', 'yes', 'yes', 75.0],\n",
              "       [75.0, 'High', 'no', 'yes', 72.0],\n",
              "       [56.0, 'High', 'yes', 'no', 76.0],\n",
              "       [80.0, 'High', 'no', 'yes', 92.0],\n",
              "       [82.0, 'High', 'yes', 'yes', 73.0],\n",
              "       [86.0, 'High', 'yes', 'yes', 71.0],\n",
              "       [90.0, 'High', 'yes', 'yes', 67.0],\n",
              "       [84.0, 'High', 'yes', 'yes', 75.0],\n",
              "       [86.0, 'High', 'no', 'yes', 76.0],\n",
              "       [61.0, 'Moderate', 'no', 'yes', 90.0],\n",
              "       [94.0, 'High', 'yes', 'yes', 64.0],\n",
              "       [81.0, 'High', 'yes', 'yes', 75.0],\n",
              "       [76.0, 'High', 'yes', 'yes', 80.0]], dtype=object)"
            ]
          },
          "metadata": {},
          "execution_count": 10
        }
      ]
    },
    {
      "cell_type": "markdown",
      "metadata": {
        "id": "o0syRbsSmkoe"
      },
      "source": [
        "## Encoding Categorical Data"
      ]
    },
    {
      "cell_type": "markdown",
      "metadata": {
        "id": "alHfpomamsVr"
      },
      "source": [
        "### Encoding independent variables"
      ]
    },
    {
      "cell_type": "code",
      "source": [
        "from sklearn.compose import ColumnTransformer\n",
        "from sklearn.preprocessing import OneHotEncoder"
      ],
      "metadata": {
        "id": "osnN4XhObaKc"
      },
      "execution_count": 11,
      "outputs": []
    },
    {
      "cell_type": "code",
      "source": [
        "ct = ColumnTransformer(transformers=[(\"encoder\", OneHotEncoder(), [1])],remainder='passthrough')\n",
        "X=np.array(ct.fit_transform(X))\n",
        "X"
      ],
      "metadata": {
        "colab": {
          "base_uri": "https://localhost:8080/"
        },
        "id": "Pz4w6NJSbu5-",
        "outputId": "e616f2e5-0278-4454-a7a1-37b3b90b376a"
      },
      "execution_count": 12,
      "outputs": [
        {
          "output_type": "execute_result",
          "data": {
            "text/plain": [
              "array([[0.0, 0.0, 1.0, 10.0, 'no', 'no', 97.0],\n",
              "       [0.0, 0.0, 1.0, 12.0, 'no', 'no', 97.0],\n",
              "       [0.0, 0.0, 1.0, 15.0, 'no', 'no', 94.0],\n",
              "       [0.0, 0.0, 1.0, 10.0, 'no', 'no', 97.0],\n",
              "       [0.0, 1.0, 0.0, 13.0, 'no', 'no', 94.0],\n",
              "       [0.0, 1.0, 0.0, 12.0, 'no', 'no', 97.0],\n",
              "       [0.0, 1.0, 0.0, 13.0, 'no', 'no', 93.0],\n",
              "       [0.0, 1.0, 0.0, 15.0, 'no', 'no', 92.0],\n",
              "       [0.0, 1.0, 0.0, 18.0, 'no', 'no', 66.0],\n",
              "       [0.0, 0.0, 1.0, 19.0, 'no', 'no', 92.0],\n",
              "       [0.0, 0.0, 1.0, 20.0, 'no', 'no', 93.0],\n",
              "       [0.0, 0.0, 1.0, 17.0, 'no', 'no', 93.0],\n",
              "       [0.0, 0.0, 1.0, 16.0, 'no', 'no', 92.0],\n",
              "       [0.0, 0.0, 1.0, 18.0, 'no', 'no', 93.0],\n",
              "       [0.0, 0.0, 1.0, 20.0, 'no', 'no', 92.0],\n",
              "       [0.0, 1.0, 0.0, 25.0, 'no', 'no', 93.0],\n",
              "       [0.0, 1.0, 0.0, 24.0, 'no', 'no', 92.0],\n",
              "       [1.0, 0.0, 0.0, 26.0, 'no', 'no', 94.0],\n",
              "       [0.0, 0.0, 1.0, 28.0, 'no', 'no', 99.0],\n",
              "       [0.0, 0.0, 1.0, 29.0, 'no', 'no', 93.0],\n",
              "       [0.0, 1.0, 0.0, 30.0, 'no', 'no', 62.0],\n",
              "       [0.0, 0.0, 1.0, 19.0, 'no', 'no', 89.0],\n",
              "       [0.0, 0.0, 1.0, 25.0, 'no', 'yes', 86.0],\n",
              "       [0.0, 0.0, 1.0, 26.0, 'no', 'no', 82.07246376811594],\n",
              "       [0.0, 0.0, 1.0, 28.0, 'no', 'no', 89.0],\n",
              "       [0.0, 1.0, 0.0, 30.0, 'yes', 'no', 86.0],\n",
              "       [0.0, 1.0, 0.0, 35.0, 'no', 'no', 89.0],\n",
              "       [0.0, 1.0, 0.0, 32.0, 'no', 'yes', 84.0],\n",
              "       [0.0, 1.0, 0.0, 45.130434782608695, 'yes', 'no', 90.0],\n",
              "       [0.0, 1.0, 0.0, 32.0, 'no', 'no', 89.0],\n",
              "       [0.0, 1.0, 0.0, 35.0, 'no', 'yes', 92.0],\n",
              "       [1.0, 0.0, 0.0, 38.0, 'no', 'no', 75.0],\n",
              "       [0.0, 1.0, 0.0, 40.0, 'no', 'yes', 90.0],\n",
              "       [1.0, 0.0, 0.0, 46.0, 'yes', 'no', 91.0],\n",
              "       [0.0, 1.0, 0.0, 48.0, 'no', 'yes', 93.0],\n",
              "       [1.0, 0.0, 0.0, 42.0, 'no', 'no', 92.0],\n",
              "       [1.0, 0.0, 0.0, 40.0, 'no', 'no', 92.0],\n",
              "       [0.0, 1.0, 0.0, 49.0, 'no', 'no', 80.0],\n",
              "       [1.0, 0.0, 0.0, 50.0, 'yes', 'yes', 77.0],\n",
              "       [1.0, 0.0, 0.0, 36.0, 'yes', 'no', 90.0],\n",
              "       [1.0, 0.0, 0.0, 52.0, 'yes', 'yes', 80.0],\n",
              "       [1.0, 0.0, 0.0, 56.0, 'yes', 'yes', 77.0],\n",
              "       [1.0, 0.0, 0.0, 58.0, 'no', 'no', 70.0],\n",
              "       [1.0, 0.0, 0.0, 59.0, 'no', 'yes', 69.0],\n",
              "       [1.0, 0.0, 0.0, 60.0, 'yes', 'yes', 68.0],\n",
              "       [1.0, 0.0, 0.0, 53.0, 'yes', 'no', 55.0],\n",
              "       [1.0, 0.0, 0.0, 54.0, 'yes', 'yes', 70.0],\n",
              "       [1.0, 0.0, 0.0, 62.0, 'yes', 'yes', 68.0],\n",
              "       [1.0, 0.0, 0.0, 63.0, 'yes', 'yes', 66.0],\n",
              "       [1.0, 0.0, 0.0, 68.0, 'yes', 'no', 67.0],\n",
              "       [1.0, 0.0, 0.0, 69.0, 'no', 'yes', 53.0],\n",
              "       [1.0, 0.0, 0.0, 64.0, 'yes', 'yes', 73.0],\n",
              "       [1.0, 0.0, 0.0, 61.0, 'yes', 'yes', 76.0],\n",
              "       [0.0, 0.0, 1.0, 70.0, 'no', 'yes', 88.0],\n",
              "       [1.0, 0.0, 0.0, 59.0, 'yes', 'no', 68.0],\n",
              "       [1.0, 0.0, 0.0, 62.0, 'yes', 'yes', 69.0],\n",
              "       [1.0, 0.0, 0.0, 78.0, 'yes', 'yes', 71.0],\n",
              "       [1.0, 0.0, 0.0, 74.0, 'yes', 'yes', 75.0],\n",
              "       [1.0, 0.0, 0.0, 75.0, 'no', 'yes', 72.0],\n",
              "       [1.0, 0.0, 0.0, 56.0, 'yes', 'no', 76.0],\n",
              "       [1.0, 0.0, 0.0, 80.0, 'no', 'yes', 92.0],\n",
              "       [1.0, 0.0, 0.0, 82.0, 'yes', 'yes', 73.0],\n",
              "       [1.0, 0.0, 0.0, 86.0, 'yes', 'yes', 71.0],\n",
              "       [1.0, 0.0, 0.0, 90.0, 'yes', 'yes', 67.0],\n",
              "       [1.0, 0.0, 0.0, 84.0, 'yes', 'yes', 75.0],\n",
              "       [1.0, 0.0, 0.0, 86.0, 'no', 'yes', 76.0],\n",
              "       [0.0, 1.0, 0.0, 61.0, 'no', 'yes', 90.0],\n",
              "       [1.0, 0.0, 0.0, 94.0, 'yes', 'yes', 64.0],\n",
              "       [1.0, 0.0, 0.0, 81.0, 'yes', 'yes', 75.0],\n",
              "       [1.0, 0.0, 0.0, 76.0, 'yes', 'yes', 80.0]], dtype=object)"
            ]
          },
          "metadata": {},
          "execution_count": 12
        }
      ]
    },
    {
      "cell_type": "markdown",
      "metadata": {
        "id": "VEJCi9Fgmz-n"
      },
      "source": [
        "### Encoding dependent variables"
      ]
    },
    {
      "cell_type": "code",
      "source": [
        "from sklearn.preprocessing import LabelEncoder\n",
        "le = LabelEncoder()\n",
        "Y = le.fit_transform(Y)"
      ],
      "metadata": {
        "id": "pjdIM-VdQGY1"
      },
      "execution_count": 14,
      "outputs": []
    },
    {
      "cell_type": "code",
      "source": [
        "print(Y)"
      ],
      "metadata": {
        "colab": {
          "base_uri": "https://localhost:8080/"
        },
        "id": "rfbHoqYvQcT6",
        "outputId": "b7bd8461-a5f1-4210-a1ad-18bce40bb95d"
      },
      "execution_count": 15,
      "outputs": [
        {
          "output_type": "stream",
          "name": "stdout",
          "text": [
            "[0 0 0 0 0 0 0 0 1 0 0 0 0 0 0 0 0 0 0 0 1 0 0 0 0 0 0 0 0 0 0 1 0 0 0 0 0\n",
            " 1 1 0 1 1 1 1 1 1 1 1 1 1 1 1 1 0 1 1 1 1 1 1 0 1 1 1 1 1 0 1 1 1]\n"
          ]
        }
      ]
    },
    {
      "cell_type": "markdown",
      "metadata": {
        "id": "Bfz9vcDsm7r6"
      },
      "source": [
        "## Splitting data into Test set & Training Set\n"
      ]
    },
    {
      "cell_type": "code",
      "source": [
        "from sklearn.model_selection import train_test_split\n",
        "X_train, X_test, Y_train, Y_test = train_test_split(X , Y, test_size=0.2 ,random_state = 42)"
      ],
      "metadata": {
        "id": "07p2z7rgSkQY"
      },
      "execution_count": 16,
      "outputs": []
    },
    {
      "cell_type": "code",
      "source": [
        "print(X_train)"
      ],
      "metadata": {
        "colab": {
          "base_uri": "https://localhost:8080/"
        },
        "id": "4nVBPhbaTD4K",
        "outputId": "a2f65ee6-b74a-45d7-d076-b694f8cffa6a"
      },
      "execution_count": 17,
      "outputs": [
        {
          "output_type": "stream",
          "name": "stdout",
          "text": [
            "[[1.0 0.0 0.0 86.0 'yes' 'yes' 71.0]\n",
            " [0.0 1.0 0.0 35.0 'no' 'yes' 92.0]\n",
            " [1.0 0.0 0.0 75.0 'no' 'yes' 72.0]\n",
            " [1.0 0.0 0.0 42.0 'no' 'no' 92.0]\n",
            " [1.0 0.0 0.0 74.0 'yes' 'yes' 75.0]\n",
            " [1.0 0.0 0.0 62.0 'yes' 'yes' 68.0]\n",
            " [0.0 1.0 0.0 24.0 'no' 'no' 92.0]\n",
            " [0.0 1.0 0.0 48.0 'no' 'yes' 93.0]\n",
            " [1.0 0.0 0.0 58.0 'no' 'no' 70.0]\n",
            " [0.0 1.0 0.0 45.130434782608695 'yes' 'no' 90.0]\n",
            " [0.0 1.0 0.0 15.0 'no' 'no' 92.0]\n",
            " [0.0 0.0 1.0 70.0 'no' 'yes' 88.0]\n",
            " [1.0 0.0 0.0 52.0 'yes' 'yes' 80.0]\n",
            " [1.0 0.0 0.0 60.0 'yes' 'yes' 68.0]\n",
            " [1.0 0.0 0.0 54.0 'yes' 'yes' 70.0]\n",
            " [0.0 0.0 1.0 29.0 'no' 'no' 93.0]\n",
            " [1.0 0.0 0.0 78.0 'yes' 'yes' 71.0]\n",
            " [1.0 0.0 0.0 36.0 'yes' 'no' 90.0]\n",
            " [0.0 1.0 0.0 30.0 'yes' 'no' 86.0]\n",
            " [1.0 0.0 0.0 50.0 'yes' 'yes' 77.0]\n",
            " [0.0 0.0 1.0 18.0 'no' 'no' 93.0]\n",
            " [1.0 0.0 0.0 69.0 'no' 'yes' 53.0]\n",
            " [0.0 0.0 1.0 10.0 'no' 'no' 97.0]\n",
            " [1.0 0.0 0.0 26.0 'no' 'no' 94.0]\n",
            " [0.0 1.0 0.0 18.0 'no' 'no' 66.0]\n",
            " [1.0 0.0 0.0 62.0 'yes' 'yes' 69.0]\n",
            " [0.0 1.0 0.0 13.0 'no' 'no' 93.0]\n",
            " [1.0 0.0 0.0 40.0 'no' 'no' 92.0]\n",
            " [1.0 0.0 0.0 84.0 'yes' 'yes' 75.0]\n",
            " [1.0 0.0 0.0 76.0 'yes' 'yes' 80.0]\n",
            " [1.0 0.0 0.0 81.0 'yes' 'yes' 75.0]\n",
            " [0.0 1.0 0.0 25.0 'no' 'no' 93.0]\n",
            " [0.0 1.0 0.0 32.0 'no' 'yes' 84.0]\n",
            " [1.0 0.0 0.0 56.0 'yes' 'yes' 77.0]\n",
            " [0.0 1.0 0.0 35.0 'no' 'no' 89.0]\n",
            " [1.0 0.0 0.0 63.0 'yes' 'yes' 66.0]\n",
            " [0.0 0.0 1.0 28.0 'no' 'no' 89.0]\n",
            " [1.0 0.0 0.0 56.0 'yes' 'no' 76.0]\n",
            " [1.0 0.0 0.0 90.0 'yes' 'yes' 67.0]\n",
            " [0.0 0.0 1.0 17.0 'no' 'no' 93.0]\n",
            " [0.0 1.0 0.0 40.0 'no' 'yes' 90.0]\n",
            " [0.0 1.0 0.0 61.0 'no' 'yes' 90.0]\n",
            " [1.0 0.0 0.0 82.0 'yes' 'yes' 73.0]\n",
            " [0.0 1.0 0.0 49.0 'no' 'no' 80.0]\n",
            " [0.0 1.0 0.0 32.0 'no' 'no' 89.0]\n",
            " [1.0 0.0 0.0 59.0 'no' 'yes' 69.0]\n",
            " [1.0 0.0 0.0 86.0 'no' 'yes' 76.0]\n",
            " [0.0 0.0 1.0 12.0 'no' 'no' 97.0]\n",
            " [1.0 0.0 0.0 61.0 'yes' 'yes' 76.0]\n",
            " [0.0 0.0 1.0 19.0 'no' 'no' 89.0]\n",
            " [0.0 0.0 1.0 15.0 'no' 'no' 94.0]\n",
            " [0.0 0.0 1.0 26.0 'no' 'no' 82.07246376811594]\n",
            " [0.0 1.0 0.0 30.0 'no' 'no' 62.0]\n",
            " [1.0 0.0 0.0 80.0 'no' 'yes' 92.0]\n",
            " [0.0 0.0 1.0 20.0 'no' 'no' 92.0]\n",
            " [1.0 0.0 0.0 64.0 'yes' 'yes' 73.0]]\n"
          ]
        }
      ]
    },
    {
      "cell_type": "code",
      "source": [
        "print(X_test)"
      ],
      "metadata": {
        "colab": {
          "base_uri": "https://localhost:8080/"
        },
        "id": "6eXC6W5JTIGc",
        "outputId": "d07fe20f-e7fc-4eab-f54d-e815ed02591d"
      },
      "execution_count": 18,
      "outputs": [
        {
          "output_type": "stream",
          "name": "stdout",
          "text": [
            "[[0.0 0.0 1.0 25.0 'no' 'yes' 86.0]\n",
            " [0.0 0.0 1.0 10.0 'no' 'no' 97.0]\n",
            " [1.0 0.0 0.0 68.0 'yes' 'no' 67.0]\n",
            " [0.0 1.0 0.0 13.0 'no' 'no' 94.0]\n",
            " [1.0 0.0 0.0 59.0 'yes' 'no' 68.0]\n",
            " [0.0 0.0 1.0 28.0 'no' 'no' 99.0]\n",
            " [0.0 0.0 1.0 20.0 'no' 'no' 93.0]\n",
            " [1.0 0.0 0.0 46.0 'yes' 'no' 91.0]\n",
            " [1.0 0.0 0.0 53.0 'yes' 'no' 55.0]\n",
            " [0.0 0.0 1.0 16.0 'no' 'no' 92.0]\n",
            " [1.0 0.0 0.0 38.0 'no' 'no' 75.0]\n",
            " [0.0 0.0 1.0 19.0 'no' 'no' 92.0]\n",
            " [1.0 0.0 0.0 94.0 'yes' 'yes' 64.0]\n",
            " [0.0 1.0 0.0 12.0 'no' 'no' 97.0]]\n"
          ]
        }
      ]
    },
    {
      "cell_type": "code",
      "source": [
        "print(Y_train)"
      ],
      "metadata": {
        "colab": {
          "base_uri": "https://localhost:8080/"
        },
        "id": "fs2xVkPPTLdC",
        "outputId": "48f19f6d-9d13-43ce-92a6-5d260b17590a"
      },
      "execution_count": 19,
      "outputs": [
        {
          "output_type": "stream",
          "name": "stdout",
          "text": [
            "[1 0 1 0 1 1 0 0 1 0 0 0 1 1 1 0 1 0 0 1 0 1 0 0 1 1 0 0 1 1 1 0 0 1 0 1 0\n",
            " 1 1 0 0 0 1 1 0 1 1 0 1 0 0 0 1 0 0 1]\n"
          ]
        }
      ]
    },
    {
      "cell_type": "code",
      "source": [
        "print(Y_test)"
      ],
      "metadata": {
        "colab": {
          "base_uri": "https://localhost:8080/"
        },
        "id": "kaNmmLmaTN7o",
        "outputId": "fd942efb-3cc5-46cb-d917-63feab21cd15"
      },
      "execution_count": 20,
      "outputs": [
        {
          "output_type": "stream",
          "name": "stdout",
          "text": [
            "[0 0 1 0 1 0 0 0 1 0 1 0 1 0]\n"
          ]
        }
      ]
    },
    {
      "cell_type": "markdown",
      "metadata": {
        "id": "a5uoHf8MsQG0"
      },
      "source": [
        "## Feature Scaling"
      ]
    },
    {
      "cell_type": "code",
      "source": [
        "from sklearn.preprocessing import StandardScaler\n",
        "sc = StandardScaler()\n",
        "X_train[:,6:] = sc.fit_transform(X_train[:, 6:])\n",
        "X_test[:,6:] = sc.fit_transform(X_test[:, 6:])"
      ],
      "metadata": {
        "id": "3mKnGb0yUuQ8"
      },
      "execution_count": 28,
      "outputs": []
    },
    {
      "cell_type": "code",
      "source": [
        "print(X_train)"
      ],
      "metadata": {
        "colab": {
          "base_uri": "https://localhost:8080/"
        },
        "id": "B_MwxfIsVvsn",
        "outputId": "2f9f00bb-f03f-4ae7-fb4e-cf9e474ed5e4"
      },
      "execution_count": 29,
      "outputs": [
        {
          "output_type": "stream",
          "name": "stdout",
          "text": [
            "[[1.0 0.0 0.0 86.0 'yes' 'yes' -0.9941858494300263]\n",
            " [0.0 1.0 0.0 35.0 'no' 'yes' 0.9574354145081887]\n",
            " [1.0 0.0 0.0 75.0 'no' 'yes' -0.9012515035282066]\n",
            " [1.0 0.0 0.0 42.0 'no' 'no' 0.9574354145081887]\n",
            " [1.0 0.0 0.0 74.0 'yes' 'yes' -0.6224484658227474]\n",
            " [1.0 0.0 0.0 62.0 'yes' 'yes' -1.2729888871354855]\n",
            " [0.0 1.0 0.0 24.0 'no' 'no' 0.9574354145081887]\n",
            " [0.0 1.0 0.0 48.0 'no' 'yes' 1.0503697604100086]\n",
            " [1.0 0.0 0.0 58.0 'no' 'no' -1.0871201953318461]\n",
            " [0.0 1.0 0.0 45.130434782608695 'yes' 'no' 0.7715667227045492]\n",
            " [0.0 1.0 0.0 15.0 'no' 'no' 0.9574354145081887]\n",
            " [0.0 0.0 1.0 70.0 'no' 'yes' 0.5856980309009097]\n",
            " [1.0 0.0 0.0 52.0 'yes' 'yes' -0.1577767363136485]\n",
            " [1.0 0.0 0.0 60.0 'yes' 'yes' -1.2729888871354855]\n",
            " [1.0 0.0 0.0 54.0 'yes' 'yes' -1.0871201953318461]\n",
            " [0.0 0.0 1.0 29.0 'no' 'no' 1.0503697604100086]\n",
            " [1.0 0.0 0.0 78.0 'yes' 'yes' -0.9941858494300263]\n",
            " [1.0 0.0 0.0 36.0 'yes' 'no' 0.7715667227045492]\n",
            " [0.0 1.0 0.0 30.0 'yes' 'no' 0.3998293390972701]\n",
            " [1.0 0.0 0.0 50.0 'yes' 'yes' -0.4365797740191078]\n",
            " [0.0 0.0 1.0 18.0 'no' 'no' 1.0503697604100086]\n",
            " [1.0 0.0 0.0 69.0 'no' 'yes' -2.667004075662782]\n",
            " [0.0 0.0 1.0 10.0 'no' 'no' 1.4221071440172877]\n",
            " [1.0 0.0 0.0 26.0 'no' 'no' 1.1433041063118283]\n",
            " [0.0 1.0 0.0 18.0 'no' 'no' -1.4588575789391252]\n",
            " [1.0 0.0 0.0 62.0 'yes' 'yes' -1.1800545412336658]\n",
            " [0.0 1.0 0.0 13.0 'no' 'no' 1.0503697604100086]\n",
            " [1.0 0.0 0.0 40.0 'no' 'no' 0.9574354145081887]\n",
            " [1.0 0.0 0.0 84.0 'yes' 'yes' -0.6224484658227474]\n",
            " [1.0 0.0 0.0 76.0 'yes' 'yes' -0.1577767363136485]\n",
            " [1.0 0.0 0.0 81.0 'yes' 'yes' -0.6224484658227474]\n",
            " [0.0 1.0 0.0 25.0 'no' 'no' 1.0503697604100086]\n",
            " [0.0 1.0 0.0 32.0 'no' 'yes' 0.21396064729363057]\n",
            " [1.0 0.0 0.0 56.0 'yes' 'yes' -0.4365797740191078]\n",
            " [0.0 1.0 0.0 35.0 'no' 'no' 0.6786323768027295]\n",
            " [1.0 0.0 0.0 63.0 'yes' 'yes' -1.4588575789391252]\n",
            " [0.0 0.0 1.0 28.0 'no' 'no' 0.6786323768027295]\n",
            " [1.0 0.0 0.0 56.0 'yes' 'no' -0.5295141199209276]\n",
            " [1.0 0.0 0.0 90.0 'yes' 'yes' -1.3659232330373055]\n",
            " [0.0 0.0 1.0 17.0 'no' 'no' 1.0503697604100086]\n",
            " [0.0 1.0 0.0 40.0 'no' 'yes' 0.7715667227045492]\n",
            " [0.0 1.0 0.0 61.0 'no' 'yes' 0.7715667227045492]\n",
            " [1.0 0.0 0.0 82.0 'yes' 'yes' -0.8083171576263869]\n",
            " [0.0 1.0 0.0 49.0 'no' 'no' -0.1577767363136485]\n",
            " [0.0 1.0 0.0 32.0 'no' 'no' 0.6786323768027295]\n",
            " [1.0 0.0 0.0 59.0 'no' 'yes' -1.1800545412336658]\n",
            " [1.0 0.0 0.0 86.0 'no' 'yes' -0.5295141199209276]\n",
            " [0.0 0.0 1.0 12.0 'no' 'no' 1.4221071440172877]\n",
            " [1.0 0.0 0.0 61.0 'yes' 'yes' -0.5295141199209276]\n",
            " [0.0 0.0 1.0 19.0 'no' 'no' 0.6786323768027295]\n",
            " [0.0 0.0 1.0 15.0 'no' 'no' 1.1433041063118283]\n",
            " [0.0 0.0 1.0 26.0 'no' 'no' 0.034826328381426866]\n",
            " [0.0 1.0 0.0 30.0 'no' 'no' -1.8305949625464042]\n",
            " [1.0 0.0 0.0 80.0 'no' 'yes' 0.9574354145081887]\n",
            " [0.0 0.0 1.0 20.0 'no' 'no' 0.9574354145081887]\n",
            " [1.0 0.0 0.0 64.0 'yes' 'yes' -0.8083171576263869]]\n"
          ]
        }
      ]
    },
    {
      "cell_type": "code",
      "source": [
        "print(X_test)"
      ],
      "metadata": {
        "colab": {
          "base_uri": "https://localhost:8080/"
        },
        "id": "bfxTIYY1V2Uo",
        "outputId": "18a6e361-0040-4793-8876-edc76540b7e6"
      },
      "execution_count": 30,
      "outputs": [
        {
          "output_type": "stream",
          "name": "stdout",
          "text": [
            "[[0.0 0.0 1.0 25.0 'no' 'yes' 0.1720510299257006]\n",
            " [0.0 0.0 1.0 10.0 'no' 'no' 0.9513409890009328]\n",
            " [1.0 0.0 0.0 68.0 'yes' 'no' -1.1739952630224277]\n",
            " [0.0 1.0 0.0 13.0 'no' 'no' 0.7388073637985968]\n",
            " [1.0 0.0 0.0 59.0 'yes' 'no' -1.1031507212883158]\n",
            " [0.0 0.0 1.0 28.0 'no' 'no' 1.0930300724691568]\n",
            " [0.0 0.0 1.0 20.0 'no' 'no' 0.6679628220644848]\n",
            " [1.0 0.0 0.0 46.0 'yes' 'no' 0.5262737385962607]\n",
            " [1.0 0.0 0.0 53.0 'yes' 'no' -2.024129763831772]\n",
            " [0.0 0.0 1.0 16.0 'no' 'no' 0.5971182803303727]\n",
            " [1.0 0.0 0.0 38.0 'no' 'no' -0.6072389291495315]\n",
            " [0.0 0.0 1.0 19.0 'no' 'no' 0.5971182803303727]\n",
            " [1.0 0.0 0.0 94.0 'yes' 'yes' -1.3865288882247637]\n",
            " [0.0 1.0 0.0 12.0 'no' 'no' 0.9513409890009328]]\n"
          ]
        }
      ]
    },
    {
      "cell_type": "code",
      "source": [
        "# Y_train[:, 3:4] = sc.fit_transform(Y_train[:, 3:4])\n",
        "# Y_test[:,3:4] = sc.fit_transform(Y_test[:, 3:4])"
      ],
      "metadata": {
        "id": "B7kI2q7-V--b"
      },
      "execution_count": 36,
      "outputs": []
    }
  ]
}